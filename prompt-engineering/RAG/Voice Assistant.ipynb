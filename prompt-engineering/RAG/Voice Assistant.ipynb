{
 "cells": [
  {
   "cell_type": "code",
   "execution_count": 1,
   "id": "fefe672b",
   "metadata": {},
   "outputs": [
    {
     "data": {
      "text/plain": [
       "True"
      ]
     },
     "execution_count": 1,
     "metadata": {},
     "output_type": "execute_result"
    }
   ],
   "source": [
    "from dotenv import load_dotenv\n",
    "load_dotenv()"
   ]
  },
  {
   "cell_type": "code",
   "execution_count": 48,
   "id": "47a40485",
   "metadata": {},
   "outputs": [],
   "source": [
    "import os\n",
    "import requests\n",
    "from bs4 import BeautifulSoup\n",
    "from langchain.embeddings.openai import OpenAIEmbeddings\n",
    "from langchain.vectorstores import DeepLake\n",
    "from langchain.text_splitter import CharacterTextSplitter\n",
    "from langchain.document_loaders import TextLoader\n",
    "import re\n",
    "\n",
    "\n",
    "\n",
    "my_activeloop_org_id = \"Ali\"\n",
    "my_activeloop_dataset_name = \"langchain_course_jarvis_assistant\"\n",
    "dataset_path = f'hub://{my_activeloop_org_id}/{my_activeloop_dataset_name}'\n",
    "\n",
    "\n",
    "embeddings = OpenAIEmbeddings(model='text-embedding-ada-002')"
   ]
  },
  {
   "cell_type": "code",
   "execution_count": 49,
   "id": "3ebf393e",
   "metadata": {},
   "outputs": [],
   "source": [
    "def get_documentation_urls():\n",
    "    \n",
    "    return [\n",
    "        '/docs/huggingface_hub/guides/overview',\n",
    "        '/docs/huggingface_hub/guides/download',\n",
    "        '/docs/huggingface_hub/guides/upload',\n",
    "        '/docs/huggingface_hub/guides/hf_file_system',\n",
    "        '/docs/huggingface_hub/guides/repository',\n",
    "        '/docs/huggingface_hub/guides/search'\n",
    "    ]\n",
    "\n",
    "def construct_full_url(base_url, relative_url):\n",
    "    return base_url + relative_url"
   ]
  },
  {
   "cell_type": "code",
   "execution_count": 50,
   "id": "0b3523ed",
   "metadata": {},
   "outputs": [],
   "source": [
    "def scrape_page_content(url):\n",
    "    response = requests.get(url)\n",
    "    soup = BeautifulSoup(response.text, 'html.parser')\n",
    "    text = soup.body.text.strip()\n",
    "    text = re.sub(r'[\\x00-\\x08\\x0b-\\x0c\\x0e-\\x1f-\\x7f-\\xff]', '', text)\n",
    "    text = re.sub(r'\\s+', ' ', text)\n",
    "    return text.strip()\n",
    "\n",
    "\n",
    "def scrape_all_content(base_url, relative_urls, filename):\n",
    "    \n",
    "    content = []\n",
    "    for relative_url in relative_urls:\n",
    "        full_url = construct_full_url(base_url, relative_url)\n",
    "        scraped_content = scrape_page_content(full_url)\n",
    "        content.append(scraped_content.rstrip('\\n'))\n",
    "        \n",
    "    \n",
    "    with open(filename, 'w', encoding='utf-8') as file:\n",
    "        for item in content:\n",
    "            file.write(\"%s\\n\" % item)\n",
    "            \n",
    "    return content\n",
    "        "
   ]
  },
  {
   "cell_type": "code",
   "execution_count": 51,
   "id": "6d7b7a28",
   "metadata": {},
   "outputs": [],
   "source": [
    "def load_docs(root_dir, filename):\n",
    "    docs = []\n",
    "    \n",
    "    try:\n",
    "        loader = TextLoader(os.path.join(root_dir, filename), encoding='utf-8')\n",
    "        \n",
    "        docs.extend(loader.load_and_split())\n",
    "        \n",
    "    except Exception as e:\n",
    "        pass\n",
    "    \n",
    "    return docs\n",
    "\n",
    "def split_docs(docs):\n",
    "    text_splitter = CharacterTextSplitter(chunk_size = 1000, chunk_overlap=0)\n",
    "    return text_splitter.split_documents(docs)\n"
   ]
  },
  {
   "cell_type": "code",
   "execution_count": 52,
   "id": "acb917e1",
   "metadata": {},
   "outputs": [],
   "source": [
    "def main():\n",
    "    base_url = 'https://huggingface.co'\n",
    "    filename = 'content.txt'\n",
    "    root_dir = './'\n",
    "    relative_urls = get_documentation_urls()\n",
    "    \n",
    "    content = scrape_all_content(base_url, relative_urls, filename)\n",
    "    \n",
    "    docs = load_docs(root_dir, filename)\n",
    "    texts = split_docs(docs)\n",
    "    \n",
    "    db = DeepLake(dataset_path=dataset_path, embedding_function=embeddings)\n",
    "    db.add_documents(texts)\n",
    "    \n",
    "    os.remove(filename)"
   ]
  },
  {
   "cell_type": "code",
   "execution_count": 53,
   "id": "1bbe8f7c",
   "metadata": {},
   "outputs": [
    {
     "name": "stdout",
     "output_type": "stream",
     "text": [
      "Your Deep Lake dataset has been successfully created!\n",
      "The dataset is private so make sure you are logged in!\n"
     ]
    },
    {
     "name": "stderr",
     "output_type": "stream",
     "text": [
      "|"
     ]
    },
    {
     "name": "stdout",
     "output_type": "stream",
     "text": [
      "Dataset(path='hub://Ali/langchain_course_jarvis_assistant', tensors=['embedding', 'id', 'metadata', 'text'])\n",
      "\n",
      "  tensor      htype      shape      dtype  compression\n",
      "  -------    -------    -------    -------  ------- \n",
      " embedding  embedding  (18, 1536)  float32   None   \n",
      "    id        text      (18, 1)      str     None   \n",
      " metadata     json      (18, 1)      str     None   \n",
      "   text       text      (18, 1)      str     None   \n"
     ]
    },
    {
     "name": "stderr",
     "output_type": "stream",
     "text": [
      "\r",
      " \r"
     ]
    }
   ],
   "source": [
    "main()"
   ]
  },
  {
   "cell_type": "markdown",
   "id": "2e6eceea",
   "metadata": {},
   "source": [
    "#### Voice Assistant"
   ]
  },
  {
   "cell_type": "code",
   "execution_count": null,
   "id": "a57d2238",
   "metadata": {},
   "outputs": [],
   "source": [
    "import os \n",
    "import openai\n"
   ]
  }
 ],
 "metadata": {
  "kernelspec": {
   "display_name": "Python 3 (ipykernel)",
   "language": "python",
   "name": "python3"
  },
  "language_info": {
   "codemirror_mode": {
    "name": "ipython",
    "version": 3
   },
   "file_extension": ".py",
   "mimetype": "text/x-python",
   "name": "python",
   "nbconvert_exporter": "python",
   "pygments_lexer": "ipython3",
   "version": "3.11.9"
  }
 },
 "nbformat": 4,
 "nbformat_minor": 5
}
