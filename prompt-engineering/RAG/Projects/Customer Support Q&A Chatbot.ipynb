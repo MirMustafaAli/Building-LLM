{
 "cells": [
  {
   "cell_type": "code",
   "execution_count": 8,
   "id": "7456b7a4",
   "metadata": {},
   "outputs": [
    {
     "data": {
      "text/plain": [
       "True"
      ]
     },
     "execution_count": 8,
     "metadata": {},
     "output_type": "execute_result"
    }
   ],
   "source": [
    "from dotenv import load_dotenv\n",
    "load_dotenv()"
   ]
  },
  {
   "cell_type": "code",
   "execution_count": 34,
   "id": "44a2690e",
   "metadata": {
    "scrolled": true
   },
   "outputs": [],
   "source": [
    "from langchain.embeddings.openai import OpenAIEmbeddings\n",
    "from langchain.vectorstores import DeepLake\n",
    "from langchain.text_splitter import CharacterTextSplitter\n",
    "from langchain.chat_models import ChatOpenAI\n",
    "from langchain import OpenAI\n",
    "from langchain.document_loaders import SeleniumURLLoader\n",
    "from langchain import PromptTemplate\n",
    "from langchain.chains import LLMChain\n",
    "from langchain_"
   ]
  },
  {
   "cell_type": "code",
   "execution_count": 4,
   "id": "62c807a4",
   "metadata": {},
   "outputs": [],
   "source": [
    "urls = [\n",
    "    'https://beebom.com/what-is-nft-explained/',\n",
    "    'https://beebom.com/how-delete-spotify-account/',\n",
    "    'https://beebom.com/how-download-gif-twitter/',\n",
    "    'https://beebom.com/how-use-chatgpt-linux-terminal/',\n",
    "    'https://beebom.com/how-save-instagram-story-with-music/',\n",
    "    'https://beebom.com/how-install-pip-windows/',\n",
    "    'https://beebom.com/how-check-disk-usage-linux/'\n",
    "    \n",
    "]"
   ]
  },
  {
   "cell_type": "markdown",
   "id": "ae6e4c36",
   "metadata": {},
   "source": [
    "splitting documents into chunks and compute their embeddings"
   ]
  },
  {
   "cell_type": "code",
   "execution_count": 7,
   "id": "8f68f01f",
   "metadata": {
    "scrolled": false
   },
   "outputs": [
    {
     "name": "stderr",
     "output_type": "stream",
     "text": [
      "Created a chunk of size 1226, which is longer than the specified 1000\n"
     ]
    }
   ],
   "source": [
    "loader = SeleniumURLLoader(urls=urls)\n",
    "docs_not_splitted = loader.load()\n",
    "\n",
    "\n",
    "text_splitter = CharacterTextSplitter(chunk_size=1000, chunk_overlap=0)\n",
    "docs = text_splitter.split_documents(docs_not_splitted)"
   ]
  },
  {
   "cell_type": "code",
   "execution_count": 9,
   "id": "4346e4f6",
   "metadata": {},
   "outputs": [
    {
     "name": "stdout",
     "output_type": "stream",
     "text": [
      "Your Deep Lake dataset has been successfully created!\n"
     ]
    },
    {
     "name": "stderr",
     "output_type": "stream",
     "text": []
    }
   ],
   "source": [
    "embeddings = OpenAIEmbeddings(model=\"text-embedding-ada-002\")\n",
    "\n",
    "\n",
    "my_activeloop_ord_id = \"Ali\"\n",
    "my_activeloop_dataset_name = \"lengthchain_course_customer_support\"\n",
    "dataset_path = f\"hub://{my_activeloop_ord_id}/{my_activeloop_dataset_name}\"\n",
    "db = DeepLake(dataset_path=dataset_path, embedding_function=embeddings)"
   ]
  },
  {
   "cell_type": "code",
   "execution_count": 12,
   "id": "783f77cc",
   "metadata": {},
   "outputs": [
    {
     "name": "stderr",
     "output_type": "stream",
     "text": [
      "Creating 102 embeddings in 1 batches of size 102:: 100%|█████████████████████████████████████████████████| 1/1 [00:07<00:00,  7.19s/it]"
     ]
    },
    {
     "name": "stdout",
     "output_type": "stream",
     "text": [
      "Dataset(path='hub://Ali/lengthchain_course_customer_support', tensors=['text', 'metadata', 'embedding', 'id'])\n",
      "\n",
      "  tensor      htype       shape      dtype  compression\n",
      "  -------    -------     -------    -------  ------- \n",
      "   text       text      (102, 1)      str     None   \n",
      " metadata     json      (102, 1)      str     None   \n",
      " embedding  embedding  (102, 1536)  float32   None   \n",
      "    id        text      (102, 1)      str     None   \n"
     ]
    },
    {
     "name": "stderr",
     "output_type": "stream",
     "text": [
      "\n"
     ]
    },
    {
     "data": {
      "text/plain": [
       "['43a66c64-3e43-11ef-8fa4-36ea86592e58',\n",
       " '43a66dc2-3e43-11ef-8fa4-36ea86592e58',\n",
       " '43a66dea-3e43-11ef-8fa4-36ea86592e58',\n",
       " '43a66e12-3e43-11ef-8fa4-36ea86592e58',\n",
       " '43a66e30-3e43-11ef-8fa4-36ea86592e58',\n",
       " '43a66e4e-3e43-11ef-8fa4-36ea86592e58',\n",
       " '43a66e6c-3e43-11ef-8fa4-36ea86592e58',\n",
       " '43a66eb2-3e43-11ef-8fa4-36ea86592e58',\n",
       " '43a66eda-3e43-11ef-8fa4-36ea86592e58',\n",
       " '43a66ef8-3e43-11ef-8fa4-36ea86592e58',\n",
       " '43a66f20-3e43-11ef-8fa4-36ea86592e58',\n",
       " '43a66f3e-3e43-11ef-8fa4-36ea86592e58',\n",
       " '43a66f5c-3e43-11ef-8fa4-36ea86592e58',\n",
       " '43a66f7a-3e43-11ef-8fa4-36ea86592e58',\n",
       " '43a66f98-3e43-11ef-8fa4-36ea86592e58',\n",
       " '43a66fb6-3e43-11ef-8fa4-36ea86592e58',\n",
       " '43a66fd4-3e43-11ef-8fa4-36ea86592e58',\n",
       " '43a66ff2-3e43-11ef-8fa4-36ea86592e58',\n",
       " '43a67010-3e43-11ef-8fa4-36ea86592e58',\n",
       " '43a6702e-3e43-11ef-8fa4-36ea86592e58',\n",
       " '43a6704c-3e43-11ef-8fa4-36ea86592e58',\n",
       " '43a6706a-3e43-11ef-8fa4-36ea86592e58',\n",
       " '43a67088-3e43-11ef-8fa4-36ea86592e58',\n",
       " '43a670a6-3e43-11ef-8fa4-36ea86592e58',\n",
       " '43a670ce-3e43-11ef-8fa4-36ea86592e58',\n",
       " '43a670ec-3e43-11ef-8fa4-36ea86592e58',\n",
       " '43a6710a-3e43-11ef-8fa4-36ea86592e58',\n",
       " '43a67128-3e43-11ef-8fa4-36ea86592e58',\n",
       " '43a67146-3e43-11ef-8fa4-36ea86592e58',\n",
       " '43a67164-3e43-11ef-8fa4-36ea86592e58',\n",
       " '43a67182-3e43-11ef-8fa4-36ea86592e58',\n",
       " '43a671a0-3e43-11ef-8fa4-36ea86592e58',\n",
       " '43a671be-3e43-11ef-8fa4-36ea86592e58',\n",
       " '43a671dc-3e43-11ef-8fa4-36ea86592e58',\n",
       " '43a671fa-3e43-11ef-8fa4-36ea86592e58',\n",
       " '43a67218-3e43-11ef-8fa4-36ea86592e58',\n",
       " '43a67236-3e43-11ef-8fa4-36ea86592e58',\n",
       " '43a67254-3e43-11ef-8fa4-36ea86592e58',\n",
       " '43a67272-3e43-11ef-8fa4-36ea86592e58',\n",
       " '43a67290-3e43-11ef-8fa4-36ea86592e58',\n",
       " '43a672ae-3e43-11ef-8fa4-36ea86592e58',\n",
       " '43a672d6-3e43-11ef-8fa4-36ea86592e58',\n",
       " '43a672f4-3e43-11ef-8fa4-36ea86592e58',\n",
       " '43a67312-3e43-11ef-8fa4-36ea86592e58',\n",
       " '43a67330-3e43-11ef-8fa4-36ea86592e58',\n",
       " '43a6734e-3e43-11ef-8fa4-36ea86592e58',\n",
       " '43a6736c-3e43-11ef-8fa4-36ea86592e58',\n",
       " '43a67380-3e43-11ef-8fa4-36ea86592e58',\n",
       " '43a6739e-3e43-11ef-8fa4-36ea86592e58',\n",
       " '43a673bc-3e43-11ef-8fa4-36ea86592e58',\n",
       " '43a673da-3e43-11ef-8fa4-36ea86592e58',\n",
       " '43a673f8-3e43-11ef-8fa4-36ea86592e58',\n",
       " '43a67416-3e43-11ef-8fa4-36ea86592e58',\n",
       " '43a67434-3e43-11ef-8fa4-36ea86592e58',\n",
       " '43a67452-3e43-11ef-8fa4-36ea86592e58',\n",
       " '43a67470-3e43-11ef-8fa4-36ea86592e58',\n",
       " '43a67484-3e43-11ef-8fa4-36ea86592e58',\n",
       " '43a674a2-3e43-11ef-8fa4-36ea86592e58',\n",
       " '43a674c0-3e43-11ef-8fa4-36ea86592e58',\n",
       " '43a674de-3e43-11ef-8fa4-36ea86592e58',\n",
       " '43a674f2-3e43-11ef-8fa4-36ea86592e58',\n",
       " '43a67510-3e43-11ef-8fa4-36ea86592e58',\n",
       " '43a6752e-3e43-11ef-8fa4-36ea86592e58',\n",
       " '43a67542-3e43-11ef-8fa4-36ea86592e58',\n",
       " '43a67560-3e43-11ef-8fa4-36ea86592e58',\n",
       " '43a67588-3e43-11ef-8fa4-36ea86592e58',\n",
       " '43a675a6-3e43-11ef-8fa4-36ea86592e58',\n",
       " '43a675ba-3e43-11ef-8fa4-36ea86592e58',\n",
       " '43a675d8-3e43-11ef-8fa4-36ea86592e58',\n",
       " '43a675f6-3e43-11ef-8fa4-36ea86592e58',\n",
       " '43a6760a-3e43-11ef-8fa4-36ea86592e58',\n",
       " '43a67628-3e43-11ef-8fa4-36ea86592e58',\n",
       " '43a67646-3e43-11ef-8fa4-36ea86592e58',\n",
       " '43a67664-3e43-11ef-8fa4-36ea86592e58',\n",
       " '43a67682-3e43-11ef-8fa4-36ea86592e58',\n",
       " '43a676a0-3e43-11ef-8fa4-36ea86592e58',\n",
       " '43a676be-3e43-11ef-8fa4-36ea86592e58',\n",
       " '43a676e6-3e43-11ef-8fa4-36ea86592e58',\n",
       " '43a67704-3e43-11ef-8fa4-36ea86592e58',\n",
       " '43a67722-3e43-11ef-8fa4-36ea86592e58',\n",
       " '43a67736-3e43-11ef-8fa4-36ea86592e58',\n",
       " '43a67754-3e43-11ef-8fa4-36ea86592e58',\n",
       " '43a67772-3e43-11ef-8fa4-36ea86592e58',\n",
       " '43a67786-3e43-11ef-8fa4-36ea86592e58',\n",
       " '43a677a4-3e43-11ef-8fa4-36ea86592e58',\n",
       " '43a677c2-3e43-11ef-8fa4-36ea86592e58',\n",
       " '43a677d6-3e43-11ef-8fa4-36ea86592e58',\n",
       " '43a677f4-3e43-11ef-8fa4-36ea86592e58',\n",
       " '43a67812-3e43-11ef-8fa4-36ea86592e58',\n",
       " '43a67826-3e43-11ef-8fa4-36ea86592e58',\n",
       " '43a67844-3e43-11ef-8fa4-36ea86592e58',\n",
       " '43a67862-3e43-11ef-8fa4-36ea86592e58',\n",
       " '43a67876-3e43-11ef-8fa4-36ea86592e58',\n",
       " '43a67894-3e43-11ef-8fa4-36ea86592e58',\n",
       " '43a678b2-3e43-11ef-8fa4-36ea86592e58',\n",
       " '43a678c6-3e43-11ef-8fa4-36ea86592e58',\n",
       " '43a678e4-3e43-11ef-8fa4-36ea86592e58',\n",
       " '43a67902-3e43-11ef-8fa4-36ea86592e58',\n",
       " '43a67920-3e43-11ef-8fa4-36ea86592e58',\n",
       " '43a67934-3e43-11ef-8fa4-36ea86592e58',\n",
       " '43a67952-3e43-11ef-8fa4-36ea86592e58',\n",
       " '43a67966-3e43-11ef-8fa4-36ea86592e58']"
      ]
     },
     "execution_count": 12,
     "metadata": {},
     "output_type": "execute_result"
    }
   ],
   "source": [
    "db.add_documents(docs)"
   ]
  },
  {
   "cell_type": "code",
   "execution_count": 14,
   "id": "ba9995f1",
   "metadata": {},
   "outputs": [
    {
     "name": "stdout",
     "output_type": "stream",
     "text": [
      "Home > Tech > How to Check Disk Usage in Linux (4 Methods)\n",
      "\n",
      "How to Check Disk Usage in Linux (4 Methods)\n",
      "\n",
      "Beebom Staff\n",
      "\n",
      "Comments\t\t\t\t\t\t\t\n",
      "\t\t\t\t\t\t\t\n",
      "\t\t\t\t\t\t\t\t0\n",
      "\n",
      "Share\n",
      "\n",
      "Copied\n",
      "\n",
      "There may be times when you need to download some important files or transfer some photos to your Linux system, but face a problem of insufficient disk space. You head over to your file manager to delete the large files which you no longer require, but you have no clue which of them are occupying most of your disk space. In this article, we will show some easy methods to check disk usage in Linux from both the terminal and the GUI application.\n",
      "\n",
      "Table of Contents\n",
      "\n",
      "Display Disk Usage in Human Readable Format\n",
      "\n",
      "Display Disk Occupancy of a Particular Type\n",
      "\n",
      "Display Disk Usage in Human Readable Format\n",
      "\n",
      "Display Disk Usage for a Particular Directory\n",
      "\n",
      "Compare Disk Usage of Two Directories\n",
      "\n",
      "Sorting Files based on File Size\n",
      "\n",
      "Exclude Files Based on Their File Size\n",
      "\n",
      "Exclude Files Based on their Types\n"
     ]
    }
   ],
   "source": [
    "query = \"How to check the disk usage in linux?\"\n",
    "docs = db.similarity_search(query)\n",
    "print(docs[0].page_content)"
   ]
  },
  {
   "cell_type": "code",
   "execution_count": 15,
   "id": "1c371540",
   "metadata": {},
   "outputs": [],
   "source": [
    "template = \"\"\"You are an exceptional customer support chatbot that gently answer questions.\n",
    "\n",
    "You know the following context information.\n",
    "\n",
    "{chunks_formatted}\n",
    "\n",
    "Answer to the following question from a customer. Use only information from the previous context information. Do not invent stuff.\n",
    "\n",
    "\n",
    "Question: {query}\n",
    "Answer:\"\"\"\n",
    "\n",
    "\n",
    "prompt = PromptTemplate(\n",
    "input_variables=[\"chunks_formatted\", \"query\"],\n",
    "template = template\n",
    ")"
   ]
  },
  {
   "cell_type": "code",
   "execution_count": 42,
   "id": "e4347f95",
   "metadata": {},
   "outputs": [],
   "source": [
    "query = \"How to check disk usage in linux?\"\n",
    "\n",
    "docs = db.similarity_search(query)\n",
    "retrieved_chunks = [doc.page_content for doc in docs]\n",
    "\n",
    "chunks_formatted = \"\\n\\n\".join(retrieved_chunks)\n",
    "prompt_formatted = prompt.format(chunks_formatted=chunks_formatted, query=query)\n",
    "\n",
    "llm = ChatOpenAI(model=\"gpt-3.5-turbo\", temperature=0)\n",
    "\n",
    "\n"
   ]
  },
  {
   "cell_type": "code",
   "execution_count": null,
   "id": "b756f57e",
   "metadata": {},
   "outputs": [],
   "source": []
  }
 ],
 "metadata": {
  "kernelspec": {
   "display_name": "Python 3 (ipykernel)",
   "language": "python",
   "name": "python3"
  },
  "language_info": {
   "codemirror_mode": {
    "name": "ipython",
    "version": 3
   },
   "file_extension": ".py",
   "mimetype": "text/x-python",
   "name": "python",
   "nbconvert_exporter": "python",
   "pygments_lexer": "ipython3",
   "version": "3.11.9"
  }
 },
 "nbformat": 4,
 "nbformat_minor": 5
}
